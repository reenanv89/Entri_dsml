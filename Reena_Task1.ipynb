{
  "cells": [
    {
      "cell_type": "markdown",
      "metadata": {
        "id": "WbWqfjLILpYR"
      },
      "source": [
        "1. Write a Python program to sum all the items in a list.\n"
      ]
    },
    {
      "cell_type": "code",
      "execution_count": null,
      "metadata": {
        "colab": {
          "base_uri": "https://localhost:8080/"
        },
        "id": "IeHCdrS5KBAJ",
        "outputId": "b926a83c-223a-4e06-fec2-e6bf0d1d6038"
      },
      "outputs": [
        {
          "output_type": "stream",
          "name": "stdout",
          "text": [
            "Sum of the items= 30\n"
          ]
        }
      ],
      "source": [
        "numbers=[2,4,6,8,10]\n",
        "\n",
        "sum=0\n",
        "for i in numbers:\n",
        "  sum+=i\n",
        "print(\"Sum of the items=\",sum)\n"
      ]
    },
    {
      "cell_type": "markdown",
      "metadata": {
        "id": "1NgXL_KTLulQ"
      },
      "source": [
        "2. Write a Python program to get the largest number from a list.\n"
      ]
    },
    {
      "cell_type": "code",
      "execution_count": null,
      "metadata": {
        "colab": {
          "base_uri": "https://localhost:8080/"
        },
        "id": "W4A2hjGBLsu0",
        "outputId": "506e6955-2bd2-40b3-8fc1-67aa3c5de1d2"
      },
      "outputs": [
        {
          "output_type": "stream",
          "name": "stdout",
          "text": [
            "Largest number is= 88\n"
          ]
        }
      ],
      "source": [
        "n=[2,4,5,6,78,9,88,1,6]\n",
        "\n",
        "n.sort()\n",
        "print(\"Largest number is=\",n[-1])\n",
        "\n",
        "\n"
      ]
    },
    {
      "cell_type": "markdown",
      "metadata": {
        "id": "azKVRKqWLvtp"
      },
      "source": [
        "3. Write a Python program to count the number of strings from a given list of strings. The string length is 2 or more and the first and last characters are the same.\n",
        "\n",
        "```\n",
        "Sample List : ['abc', 'xyz', 'aba', '1221']\n",
        "Expected Result : 2\n",
        "```"
      ]
    },
    {
      "cell_type": "code",
      "execution_count": null,
      "metadata": {
        "colab": {
          "base_uri": "https://localhost:8080/"
        },
        "id": "QU89_l21uSiz",
        "outputId": "5981dd3b-6d03-4e8c-d211-600ee56a5434"
      },
      "outputs": [
        {
          "output_type": "stream",
          "name": "stdout",
          "text": [
            "Number of strings in which length is 2 or more and the first and last characters are the same= 3\n"
          ]
        }
      ],
      "source": [
        "string_list=[\"apple\",\"madam\",\"noon\",\"mango\",\"malayalam\"]\n",
        "i=0\n",
        "for x in string_list:\n",
        "    if len(x)>=2 and x[0]==x[-1]:\n",
        "        i+=1\n",
        "\n",
        "print(\"Number of strings in which length is 2 or more and the first and last characters are the same=\",i)\n",
        "\n",
        "\n"
      ]
    },
    {
      "cell_type": "markdown",
      "metadata": {
        "id": "2ZYOfK4rL20r"
      },
      "source": [
        "4. Write a Python program to remove duplicates from a list.\n"
      ]
    },
    {
      "cell_type": "code",
      "execution_count": null,
      "metadata": {
        "colab": {
          "base_uri": "https://localhost:8080/"
        },
        "id": "A4Et_q6CL3Pb",
        "outputId": "609131d6-7623-4b89-9c2c-8d384160041c"
      },
      "outputs": [
        {
          "output_type": "stream",
          "name": "stdout",
          "text": [
            "['kannur', 'kozhikode', 'kollam', 'malappuram', 'thrissur', 'kasarkode']\n"
          ]
        }
      ],
      "source": [
        "places=[\"kannur\",\"kozhikode\",\"kollam\",\"kannur\",\"malappuram\",\"thrissur\",\"kasarkode\",\"kollam\"]\n",
        "newlist=[]\n",
        "for x in places:\n",
        "    if x not in newlist:\n",
        "        newlist.append(x)\n",
        "\n",
        "print(newlist)\n"
      ]
    },
    {
      "cell_type": "markdown",
      "metadata": {
        "id": "kjtsEf0tL358"
      },
      "source": [
        "5. Write a Python program to check if a list is empty or not.\n"
      ]
    },
    {
      "cell_type": "code",
      "execution_count": null,
      "metadata": {
        "colab": {
          "base_uri": "https://localhost:8080/"
        },
        "id": "e1C-5rk7L5OT",
        "outputId": "34d1bbb6-1f02-4e48-d3a3-d3c107e52aaf"
      },
      "outputs": [
        {
          "output_type": "stream",
          "name": "stdout",
          "text": [
            "['apple', 'banana', 'cherry']\n",
            "list is not empty\n",
            "[]\n",
            "list is empty\n"
          ]
        }
      ],
      "source": [
        "def my_function(items):\n",
        "  if len(items)==0:\n",
        "    print(\"list is empty\")\n",
        "  else:\n",
        "    print(\"list is not empty\")\n",
        "\n",
        "fruits=[\"apple\",\"banana\",\"cherry\"]\n",
        "empty_list=[]\n",
        "print(fruits)\n",
        "my_function(fruits)\n",
        "\n",
        "print(empty_list)\n",
        "my_function(empty_list)\n",
        "\n"
      ]
    },
    {
      "cell_type": "markdown",
      "metadata": {
        "id": "HPq-j6_5L6Bu"
      },
      "source": [
        "6. Write a Python program to filter the list if the length of the character is < 4\n",
        "\n",
        "```\n",
        "Sample List : ['abc', 'xyz', 'aba', '1221']\n",
        "Expected Result: ['abc', 'xyz', 'aba']\n",
        "```\n"
      ]
    },
    {
      "cell_type": "code",
      "execution_count": null,
      "metadata": {
        "colab": {
          "base_uri": "https://localhost:8080/"
        },
        "id": "e0Rk_iusL-Du",
        "outputId": "4e043461-4fa1-422d-c25a-9be89116412d"
      },
      "outputs": [
        {
          "output_type": "stream",
          "name": "stdout",
          "text": [
            "Names with character less than 4: ['mia', 'don', 'pia']\n"
          ]
        }
      ],
      "source": [
        "names=[\"mia\",\"silna\",\"don\",\"charley\",\"david\",\"pia\"]\n",
        "filtered_list=[]\n",
        "\n",
        "for x in names:\n",
        "    if len(x) < 4:\n",
        "       filtered_list.append(x)\n",
        "\n",
        "\n",
        "print(\"Names with character less than 4:\",filtered_list)\n",
        "\n"
      ]
    },
    {
      "cell_type": "markdown",
      "metadata": {
        "id": "0Vo0Eo4GL_2N"
      },
      "source": [
        "7.Write a Python program to find the second largest number in a list.\n"
      ]
    },
    {
      "cell_type": "code",
      "execution_count": null,
      "metadata": {
        "colab": {
          "base_uri": "https://localhost:8080/"
        },
        "id": "uIB8bq0IMAYB",
        "outputId": "69a116e0-87b9-482d-ecf0-f3c582a851ec"
      },
      "outputs": [
        {
          "output_type": "stream",
          "name": "stdout",
          "text": [
            "66\n"
          ]
        }
      ],
      "source": [
        "numbers=[56,45,4,565,23,6,66,4,5]\n",
        "numbers.sort()\n",
        "print(numbers[-2])"
      ]
    },
    {
      "cell_type": "markdown",
      "metadata": {
        "id": "aManSXvqMBoz"
      },
      "source": [
        "8. Write a Python program to reverse a list at a specific location.\n"
      ]
    },
    {
      "cell_type": "code",
      "execution_count": null,
      "metadata": {
        "colab": {
          "base_uri": "https://localhost:8080/"
        },
        "id": "ZfNwCihu2bh9",
        "outputId": "e091dd2b-7e21-426a-b722-ebcf848e759e"
      },
      "outputs": [
        {
          "output_type": "stream",
          "name": "stdout",
          "text": [
            "Main list: ['Goa', 'Kerala', 'Karnataka', 'Tamilnadu', 'Andrapradesh', 'Odisha']\n",
            "Main List reversed at karanataka: ['Goa', 'Kerala', 'Odisha', 'Andrapradesh', 'Tamilnadu', 'Karnataka']\n"
          ]
        }
      ],
      "source": [
        "places=[\"Goa\",\"Kerala\",\"Karnataka\",\"Tamilnadu\",\"Andrapradesh\",\"Odisha\"]\n",
        "print(\"Main list:\",places)\n",
        "loc=\"karanataka\"\n",
        "\n",
        "x=places.index(\"Karnataka\")\n",
        "\n",
        "part1= places[:x]\n",
        "part2= places[x:]\n",
        "part2.reverse()\n",
        "\n",
        "reversed=part1+part2\n",
        "\n",
        "print(f\"Main List reversed at {loc}:\",reversed)"
      ]
    },
    {
      "cell_type": "markdown",
      "metadata": {
        "id": "-mIvdmfVMCyV"
      },
      "source": [
        "9. Write a Python program to check if a list is a palindrome or not. Return true otherwise false.\n"
      ]
    },
    {
      "cell_type": "code",
      "execution_count": null,
      "metadata": {
        "colab": {
          "base_uri": "https://localhost:8080/"
        },
        "id": "128bnAjHMD_6",
        "outputId": "2877b2aa-db0a-4e69-bf2e-6666477b9988"
      },
      "outputs": [
        {
          "output_type": "stream",
          "name": "stdout",
          "text": [
            "True\n"
          ]
        }
      ],
      "source": [
        "new=['m','a','l','a','y','a','l','a','m']\n",
        "\n",
        "copy_new=new.copy()\n",
        "new.reverse()\n",
        "\n",
        "if new == copy_new:\n",
        "    print(\"True\")\n",
        "else:\n",
        "    print(\"false\")\n",
        "\n"
      ]
    },
    {
      "cell_type": "markdown",
      "metadata": {
        "id": "r_OaahEUMFk9"
      },
      "source": [
        "10. Write a Python a program to find the union and intersection of two lists.\n"
      ]
    },
    {
      "cell_type": "code",
      "execution_count": null,
      "metadata": {
        "colab": {
          "base_uri": "https://localhost:8080/"
        },
        "id": "g5Rw-SMQMF7d",
        "outputId": "99775c3a-4bbd-4202-999d-56bdb09bda3e"
      },
      "outputs": [
        {
          "output_type": "stream",
          "name": "stdout",
          "text": [
            "Union list: [1, 2, 3, 4, 5, 6, 7, 8, 9, 10, 11, 12]\n",
            "Intersection list: [2, 4, 6, 8, 10]\n"
          ]
        }
      ],
      "source": [
        "natural_num = [1,2,3,4,5,6,7,8,9,10,11]\n",
        "even_num =    [2,4,6,8,10,12]\n",
        "set1=set(natural_num)\n",
        "set2=set(even_num)\n",
        "\n",
        "union_set = set1.union(set2)\n",
        "print(\"Union list:\",list(union_set))\n",
        "intersection_set = set1.intersection(set2)\n",
        "print(\"Intersection list:\",list(intersection_set))"
      ]
    },
    {
      "cell_type": "markdown",
      "metadata": {
        "id": "O_KaZq9mMHMo"
      },
      "source": [
        "11.Write a Python script to sort (ascending and descending) a dictionary by value\n"
      ]
    },
    {
      "cell_type": "code",
      "execution_count": null,
      "metadata": {
        "colab": {
          "base_uri": "https://localhost:8080/"
        },
        "id": "iMEgBD_5MHe5",
        "outputId": "d31351e7-d734-4d19-cbb8-c4ba6af6afcb"
      },
      "outputs": [
        {
          "output_type": "stream",
          "name": "stdout",
          "text": [
            "{'apple': 2, 'grape': 3, 'banana': 5, 'orange': 8}\n"
          ]
        }
      ],
      "source": [
        "my_dict = {\"banana\": 5,\"apple\":2,\"orange\":8,\"grape\":3}\n",
        "\n",
        "def get_value(item): #takes argument(item) i.e (5,2,8,3) and returns the value of index 1 in the tuple\n",
        "    return item[1]   #([(key1,value1),(key2,value2),.....])\n",
        "\n",
        "sorted_dict=dict(sorted(my_dict.items(),key=get_value)) #key reads (5,2,8,3) and sort it\n",
        "print(sorted_dict)"
      ]
    },
    {
      "cell_type": "markdown",
      "metadata": {
        "id": "LRtPwyETMJFB"
      },
      "source": [
        "12. Write a Python script to check whether a given key already exists in a dictionary.\n"
      ]
    },
    {
      "cell_type": "code",
      "execution_count": null,
      "metadata": {
        "colab": {
          "base_uri": "https://localhost:8080/"
        },
        "id": "CzQHm4IWMJX5",
        "outputId": "8e3f9ec6-0512-4690-827f-9b13a5f542af"
      },
      "outputs": [
        {
          "output_type": "stream",
          "name": "stdout",
          "text": [
            "{'banana': 5, 'apple': 2, 'orange': 8, 'grapes': 3}\n",
            "enter a key value=lk\n",
            "key:lk exists:False\n"
          ]
        }
      ],
      "source": [
        "my_dict = {\"banana\": 5,\"apple\":2,\"orange\":8,\"grapes\":3}\n",
        "print(my_dict)\n",
        "\n",
        "key=input(\"enter a key value=\")\n",
        "\n",
        "key_exists = key in my_dict\n",
        "print(f\"key:{key} exists:{key_exists}\")"
      ]
    },
    {
      "cell_type": "markdown",
      "metadata": {
        "id": "ndM9xtBpMK7b"
      },
      "source": [
        "13.Write a Python program to sum all the values in a dictionary.\n"
      ]
    },
    {
      "cell_type": "code",
      "execution_count": null,
      "metadata": {
        "colab": {
          "base_uri": "https://localhost:8080/"
        },
        "id": "-UBNCNxbMLNa",
        "outputId": "ca9f13bb-9eb9-4844-dfe6-746573b45782"
      },
      "outputs": [
        {
          "output_type": "stream",
          "name": "stdout",
          "text": [
            "values: [1, 2, 3, 4, 6]\n",
            "sum of values: 16\n"
          ]
        }
      ],
      "source": [
        "even_num={'a':1,'b':2,'c':3,'d':4,'e':6}\n",
        "value=list(even_num.values())\n",
        "print(\"values:\",value)\n",
        "sum=0\n",
        "for i in value:\n",
        "    sum+=i\n",
        "\n",
        "print(\"sum of values:\",sum)\n",
        "\n"
      ]
    },
    {
      "cell_type": "markdown",
      "metadata": {
        "id": "0qVfQATqMNdJ"
      },
      "source": [
        "14.Write a Python program to create a dictionary with a number and its corresponding square from 1 to input number. And also check if the input number is less than 10\n",
        "\n",
        "```\n",
        "Eg:\n",
        "Input : 3\n",
        "Output : {1:1, 2:4, 3:9}\n",
        "```"
      ]
    },
    {
      "cell_type": "code",
      "execution_count": null,
      "metadata": {
        "colab": {
          "base_uri": "https://localhost:8080/"
        },
        "id": "XCkHf-OvMPVf",
        "outputId": "71ce3732-ea46-482f-fa12-b7648239e84a"
      },
      "outputs": [
        {
          "output_type": "stream",
          "name": "stdout",
          "text": [
            "enter a number less than 10:4\n",
            "{1: 1, 2: 4, 3: 9, 4: 16}\n"
          ]
        }
      ],
      "source": [
        "input_num=(int(input(\"enter a number less than 10:\")))\n",
        "d={}\n",
        "if input_num<10:\n",
        "    for i in range(input_num):\n",
        "        key=i+1\n",
        "        values=(i+1)**2\n",
        "        d.update({key:values})\n",
        "    print(d)\n",
        "else:\n",
        "    print(\"input number is not less than 10\")"
      ]
    },
    {
      "cell_type": "markdown",
      "metadata": {
        "id": "5Ku1ZCBMMRGO"
      },
      "source": [
        "15.Write a Python program to sort a given dictionary by key.\n"
      ]
    },
    {
      "cell_type": "code",
      "execution_count": null,
      "metadata": {
        "colab": {
          "base_uri": "https://localhost:8080/"
        },
        "id": "Uo1ha3q4MRaG",
        "outputId": "c5b01378-35a2-4fff-cc48-54c6380cf739"
      },
      "outputs": [
        {
          "output_type": "stream",
          "name": "stdout",
          "text": [
            "{'apple': 2, 'banana': 5, 'grapes': 3, 'jackfruit': 5, 'orange': 8}\n"
          ]
        }
      ],
      "source": [
        "my_dict = {\"banana\": 5,\"apple\":2,\"orange\":8,\"grapes\":3,\"jackfruit\":5}\n",
        "sorted_dic={}\n",
        "sorted_key=sorted(my_dict.keys())\n",
        "for i in sorted_key:\n",
        "    sorted_dic[i]=my_dict[i]\n",
        "\n",
        "print(sorted_dic)"
      ]
    },
    {
      "cell_type": "markdown",
      "metadata": {
        "id": "VFB6DT7uMTCo"
      },
      "source": [
        "16.  Write a Python program to create a dictionary from a string.\n",
        "\n",
        "```\n",
        "Note: Track the count of the letters from the string.\n",
        "Sample string : 'learnpython'\n",
        "Expected output: {'l': 1, 'e': 1, 'a': 1, 'r': 1, 'n': 2, 'p': 1, 'y': 1, 't': 1, 'h': 1, 'o': 1}\n",
        "\n",
        "```"
      ]
    },
    {
      "cell_type": "code",
      "execution_count": null,
      "metadata": {
        "colab": {
          "base_uri": "https://localhost:8080/"
        },
        "id": "N2y_PwaijUzo",
        "outputId": "9acc9deb-2a80-43d0-ad82-205a21a16ec1"
      },
      "outputs": [
        {
          "output_type": "stream",
          "name": "stdout",
          "text": [
            "{'l': 1, 'e': 1, 'a': 1, 'r': 1, 'n': 2, 'p': 1, 'y': 1, 't': 1, 'h': 1, 'o': 1}\n"
          ]
        }
      ],
      "source": [
        "string='learnpython'\n",
        "l1=list(string)\n",
        "count=[]\n",
        "i=0\n",
        "while i<len(l1):\n",
        "  c=l1.count(l1[i])\n",
        "  count.append(c)\n",
        "  i+=1\n",
        "my_dict={k:v for k,v in zip(l1,count)}\n",
        "print(my_dict)"
      ]
    },
    {
      "cell_type": "markdown",
      "metadata": {
        "id": "OnYknUtWMYSr"
      },
      "source": [
        "17. Write a Python program to get the top three items in a shop.\n",
        "\n",
        "```\n",
        "Sample data: {'item1': 45.50, 'item2':35, 'item3': 41.30, 'item4':55, 'item5': 24}\n",
        "\n",
        "Expected Output:\n",
        "item4 55\n",
        "item1 45.5\n",
        "item3 41.3\n",
        "```\n"
      ]
    },
    {
      "cell_type": "code",
      "execution_count": null,
      "metadata": {
        "colab": {
          "base_uri": "https://localhost:8080/"
        },
        "id": "2q8ev-kbMas2",
        "outputId": "a9a15439-16a7-4e38-db2f-ecb50df59338"
      },
      "outputs": [
        {
          "output_type": "stream",
          "name": "stdout",
          "text": [
            "item4 55\n",
            "item1 45.5\n",
            "item3 41.3\n"
          ]
        }
      ],
      "source": [
        "shop_items={'item1': 45.50, 'item2':35, 'item3': 41.30, 'item4':55, 'item5': 24}\n",
        "sorted_key=sorted(shop_items,key=shop_items.get,reverse=True)\n",
        "sorted_value=sorted(shop_items.values())\n",
        "sorted_value.reverse()\n",
        "\n",
        "for i in range(3):\n",
        "    print(sorted_key[i], sorted_value[i] )\n",
        "\n",
        "\n"
      ]
    }
  ],
  "metadata": {
    "colab": {
      "provenance": []
    },
    "kernelspec": {
      "display_name": "Python 3",
      "name": "python3"
    },
    "language_info": {
      "name": "python"
    }
  },
  "nbformat": 4,
  "nbformat_minor": 0
}