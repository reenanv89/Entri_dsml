{
  "cells": [
    {
      "cell_type": "markdown",
      "metadata": {
        "id": "fpQX9wBhb6ox"
      },
      "source": [
        "1. Write a Python program to check that a string contains only a certain set of characters (in this case a-z, A-Z and 0-9).\n",
        "\n"
      ]
    },
    {
      "cell_type": "code",
      "execution_count": null,
      "metadata": {
        "colab": {
          "base_uri": "https://localhost:8080/"
        },
        "id": "5HKhizIkbt59",
        "outputId": "034fea1e-34a8-4452-e585-f71596754445"
      },
      "outputs": [
        {
          "name": "stdout",
          "output_type": "stream",
          "text": [
            "Enter a string:a555g\n",
            "Given string contains only a-z, A-Z and 0-9 characters\n"
          ]
        }
      ],
      "source": [
        "import re\n",
        "string=input(\"Enter a string:\")\n",
        "pattern=re.compile(r'^[a-zA-Z0-9]+$')\n",
        "\n",
        "# define a function for matching the pattern with the string\n",
        "def match_pattern(s):\n",
        "  if pattern.match(s):\n",
        "     print(\"Given string contains only a-z, A-Z and 0-9 characters\")\n",
        "  else:\n",
        "     print(\"Given string contains characters other than a-z, A-Z and 0-9\")\n",
        "\n",
        "#call the function\n",
        "match_pattern(string)"
      ]
    },
    {
      "cell_type": "markdown",
      "metadata": {
        "id": "rtdxRzltcRtS"
      },
      "source": [
        "2. Write a Python program that matches a string that has an 'a' followed by zero or more 'b's.\n",
        "\n"
      ]
    },
    {
      "cell_type": "code",
      "execution_count": null,
      "metadata": {
        "colab": {
          "base_uri": "https://localhost:8080/"
        },
        "id": "ZjdCBYZAcZGl",
        "outputId": "6b7a3d63-e6e4-40ec-e2a6-4c326354f6fa"
      },
      "outputs": [
        {
          "name": "stdout",
          "output_type": "stream",
          "text": [
            "String: ['abbb', 'acbfjk', 'ab', 'fbbbb']\n",
            "The string 'abbb' has an 'a' followed by zero or more b's\n",
            "The string 'acbfjk' does not match the pattern\n",
            "The string 'ab' has an 'a' followed by zero or more b's\n",
            "The string 'fbbbb' does not match the pattern\n"
          ]
        }
      ],
      "source": [
        "import re\n",
        "string=[\"abbb\",\"acbfjk\",\"ab\",\"fbbbb\"]\n",
        "print(\"String:\",string)\n",
        "pattern=re.compile(r'ab*$')\n",
        "\n",
        "#define a function for matching the pattern with the string\n",
        "def match_pattern(string):\n",
        "  for s in string:\n",
        "       if pattern.match(s):\n",
        "           print(f\"The string '{s}' has an 'a' followed by zero or more b's\")\n",
        "       else:\n",
        "           print(f\"The string '{s}' does not match the pattern\")\n",
        "\n",
        "#call the function\n",
        "match_pattern(string)"
      ]
    },
    {
      "cell_type": "markdown",
      "metadata": {
        "id": "kyvbz3eNcZri"
      },
      "source": [
        "3. Replace only the first occurrence of 5 with five for the given string\n",
        "\n"
      ]
    },
    {
      "cell_type": "code",
      "execution_count": null,
      "metadata": {
        "colab": {
          "base_uri": "https://localhost:8080/"
        },
        "id": "DId9M3hABU11",
        "outputId": "a541d7d8-3c74-4480-ccb2-6fe2a3496fce"
      },
      "outputs": [
        {
          "name": "stdout",
          "output_type": "stream",
          "text": [
            "They ate five apples and 5 oranges\n"
          ]
        }
      ],
      "source": [
        "import re\n",
        "\n",
        "ip= 'They ate 5 apples and 5 oranges'\n",
        "op = re.sub(r'5', 'five', ip, count=1)\n",
        "\n",
        "print(op)"
      ]
    },
    {
      "cell_type": "markdown",
      "metadata": {
        "id": "h_b1-o6ncuzM"
      },
      "source": [
        "4. Write a Python program that matches a string that has an a followed by three 'b'.\n",
        "\n"
      ]
    },
    {
      "cell_type": "code",
      "execution_count": null,
      "metadata": {
        "colab": {
          "base_uri": "https://localhost:8080/"
        },
        "id": "iPXtlqwZCSYF",
        "outputId": "94e1278d-7dd0-4ae9-a3e4-2cb68096cb37"
      },
      "outputs": [
        {
          "name": "stdout",
          "output_type": "stream",
          "text": [
            "String 'ab': Not matches\n",
            "String 'acbbb': Not matches\n",
            "String 'abbb' as an 'a' followed by three 'b'\n"
          ]
        }
      ],
      "source": [
        "import re\n",
        "string=[\"ab\",\"acbbb\",\"abbb\"]\n",
        "pattern=re.compile(r'ab{3}')\n",
        "for s in string:\n",
        "    if re.fullmatch(pattern,s):\n",
        "        print(f\"String '{s}' as an 'a' followed by three 'b'\")\n",
        "    else:\n",
        "        print(f\"String '{s}': Not matches\")"
      ]
    },
    {
      "cell_type": "markdown",
      "metadata": {
        "id": "K2vPe01bc2LN"
      },
      "source": [
        "5. Write a Python program that matches a string that has an 'a' followed by anything ending in 'b'.\n",
        "\n"
      ]
    },
    {
      "cell_type": "code",
      "execution_count": null,
      "metadata": {
        "colab": {
          "base_uri": "https://localhost:8080/"
        },
        "id": "f8KfX59qc3UJ",
        "outputId": "f2e67779-a5e8-4b67-9ae7-2a6f615621fd"
      },
      "outputs": [
        {
          "name": "stdout",
          "output_type": "stream",
          "text": [
            "String 'apple.b' as an 'a' followed by something ending in 'b'\n",
            "String 'ant_b' as an 'a' followed by something ending in 'b'\n",
            "String 'abcd' Doesn't match\n",
            "String 'banana' Doesn't match\n",
            "String 'a25_-b' as an 'a' followed by something ending in 'b'\n"
          ]
        }
      ],
      "source": [
        "\n",
        "import re\n",
        "string=['apple.b','ant_b','abcd','banana','a25_-b']\n",
        "pattern=re.compile(r'a[\\w\\.-]*b$')\n",
        "for s in string:\n",
        "    if pattern.match(s):\n",
        "        print(f\"String '{s}' as an 'a' followed by something ending in 'b'\")\n",
        "    else:\n",
        "        print(f\"String '{s}' Doesn't match\")"
      ]
    },
    {
      "cell_type": "markdown",
      "metadata": {
        "id": "NyL-DhqXdZi7"
      },
      "source": [
        "6. Write a Python program to search for numbers (0-9) of length between 1 and 3 in a given string."
      ]
    },
    {
      "cell_type": "code",
      "execution_count": null,
      "metadata": {
        "colab": {
          "base_uri": "https://localhost:8080/"
        },
        "id": "pWsu0HljdnKX",
        "outputId": "698eb179-6d57-496e-d89e-c85c4108f3b9"
      },
      "outputs": [
        {
          "name": "stdout",
          "output_type": "stream",
          "text": [
            "['1', '12', '13', '345']\n"
          ]
        }
      ],
      "source": [
        "import re\n",
        "txt=\"Exercises number 1, 12, 13, 54587 and 345 are important\"\n",
        "output=re.findall(r'\\b\\d{1,3}\\b',txt)\n",
        "print(output)"
      ]
    },
    {
      "cell_type": "markdown",
      "metadata": {
        "id": "aWaHWXFjdqy7"
      },
      "source": [
        "7. Write a Python program to search for literal strings within a string.\\\n",
        "Sample text : 'The quick brown fox jumps over the lazy dog.' \\\n",
        "Searched words : 'fox', 'dog', 'horse'"
      ]
    },
    {
      "cell_type": "code",
      "execution_count": null,
      "metadata": {
        "colab": {
          "base_uri": "https://localhost:8080/"
        },
        "outputId": "5b13f9ff-16e0-49e6-c6f3-ca6945532194",
        "id": "ohJ4NuNpXPla"
      },
      "outputs": [
        {
          "output_type": "stream",
          "name": "stdout",
          "text": [
            "Sample text: 'The quick brown fox jumps over the lazy dog.'\n",
            "Searched words: ['fox', 'dog', 'horse']\n",
            "Found words: ['fox', 'dog']\n"
          ]
        }
      ],
      "source": [
        "import re\n",
        "sample_text = 'The quick brown fox jumps over the lazy dog.'\n",
        "searched_words = ['fox', 'dog', 'horse']\n",
        "\n",
        "def search_strings_regex(main_string, searched_words):\n",
        "    found_words = []\n",
        "\n",
        "    for word in searched_words:\n",
        "        pattern = re.compile(r'\\b' + re.escape(word) + r'\\b')\n",
        "        if re.search(pattern, main_string):\n",
        "            found_words.append(word)\n",
        "\n",
        "    return found_words\n",
        "\n",
        "\n",
        "result = search_strings_regex(sample_text, searched_words)\n",
        "\n",
        "print(f\"Sample text: '{sample_text}'\")\n",
        "print(f\"Searched words: {searched_words}\")\n",
        "print(f\"Found words: {result}\")\n"
      ]
    },
    {
      "cell_type": "markdown",
      "metadata": {
        "id": "2cgZLc6Yd0sE"
      },
      "source": [
        "8. Write a Python program to search for a literal string in a string and also find the location within the original string where the pattern occurs.\n",
        "\n",
        "Sample text : 'The quick brown fox jumps over the lazy dog.' \\\n",
        "Searched words : 'fox'"
      ]
    },
    {
      "cell_type": "code",
      "source": [
        "import re\n",
        "\n",
        "def string_location(main_string, searched_word):\n",
        "    pattern = re.compile(re.escape(searched_word))\n",
        "    matches = pattern.finditer(main_string)\n",
        "\n",
        "    locations = [match.start() for match in matches]\n",
        "\n",
        "    return locations\n",
        "\n",
        "sample_text = 'The quick brown fox jumps over the lazy dog.'\n",
        "searched_word = 'fox'\n",
        "\n",
        "result_locations = string_location(sample_text, searched_word)\n",
        "\n",
        "print(f\"Sample text: '{sample_text}'\")\n",
        "print(f\"Searched word: '{searched_word}'\")\n",
        "if result_locations:\n",
        "    print(f\"Found at positions: {result_locations}\")\n",
        "else:\n",
        "    print(\"Word not found in the sample text.\")\n"
      ],
      "metadata": {
        "colab": {
          "base_uri": "https://localhost:8080/"
        },
        "id": "z3dBB6bHY5Lk",
        "outputId": "6568c9ed-fd39-4306-a65c-95fd6c475448"
      },
      "execution_count": null,
      "outputs": [
        {
          "output_type": "stream",
          "name": "stdout",
          "text": [
            "Sample text: 'The quick brown fox jumps over the lazy dog.'\n",
            "Searched word: 'fox'\n",
            "Found at positions: [16]\n"
          ]
        }
      ]
    },
    {
      "cell_type": "markdown",
      "metadata": {
        "id": "ixuwdsnvdtcP"
      },
      "source": [
        "9.  Write a Python program to extract year, month and date from an URL"
      ]
    },
    {
      "cell_type": "code",
      "source": [
        "import re\n",
        "url1= \"https://www.washingtonpost.com/news/football-insider/wp/2016/09/02/odell-beckhams-fame-rests-on-one-stupid-little-ball-josh-norman\"\n",
        "p=re.compile('(\\d{4})/(\\d{2})/(\\d{2})/')\n",
        "date=p.findall(url1)\n",
        "print(\"Date:\",date)\n",
        "\n",
        "if date:\n",
        "   extracted_date= date[0]\n",
        "else:\n",
        "     None\n",
        "\n",
        "if extracted_date:\n",
        "    year, month, day = extracted_date\n",
        "    print(f\"Year: {year}\")\n",
        "    print(f\"Month: {month}\")\n",
        "    print(f\"Day: {day}\")\n",
        "else:\n",
        "    print(\"No valid date pattern found in the URL.\")\n"
      ],
      "metadata": {
        "id": "DxD64LumfWgh",
        "colab": {
          "base_uri": "https://localhost:8080/"
        },
        "outputId": "d6a9c411-a2b4-4817-ccfb-1ab2b623113c"
      },
      "execution_count": null,
      "outputs": [
        {
          "output_type": "stream",
          "name": "stdout",
          "text": [
            "Date: [('2016', '09', '02')]\n",
            "Year: 2016\n",
            "Month: 09\n",
            "Day: 02\n"
          ]
        }
      ]
    },
    {
      "cell_type": "markdown",
      "metadata": {
        "id": "Qdob8Ojkea-W"
      },
      "source": [
        "10. Write a Python program to find URLs in a string.\n",
        "\n"
      ]
    },
    {
      "cell_type": "code",
      "execution_count": null,
      "metadata": {
        "id": "d9KUcdQEeIJu",
        "colab": {
          "base_uri": "https://localhost:8080/"
        },
        "outputId": "652d0be6-44af-4c7e-c182-a049903f3276"
      },
      "outputs": [
        {
          "output_type": "stream",
          "name": "stdout",
          "text": [
            "['https://w3resource.com', 'http://github.com']\n"
          ]
        }
      ],
      "source": [
        "text = '<p>Contents :</p><a href=\"https://w3resource.com\">Python Examples</a><a href=\"http://github.com\">Even More Examples</a>'\n",
        "\n",
        "print(re.findall(r'[ht]\\w*://\\w+.\\w+',text))"
      ]
    },
    {
      "cell_type": "markdown",
      "metadata": {
        "id": "5mX_cCEFepSi"
      },
      "source": [
        "11. Write a Python program to remove the parenthesis area in a string.\\\n",
        "\n",
        "Sample data : [\"example (.com)\", \"w3resource\", \"github (.com)\", \"stackoverflow (.com)\"] \\\n",
        "Expected Output: \\\n",
        "example  \\\n",
        "w3resource \\\n",
        "github  \\\n",
        "stackoverflow. \\\n",
        "\n"
      ]
    },
    {
      "cell_type": "code",
      "source": [
        "import re\n",
        "\n",
        "def remove_parenthesis_area(input_strings):\n",
        "    result = []\n",
        "    for s in input_strings:\n",
        "        # Use regular expression to remove the parenthesis area\n",
        "        cleaned_string = re.sub(r'\\s*\\(.com\\)', '', s)\n",
        "        result.append(cleaned_string.strip())\n",
        "\n",
        "    return result\n",
        "\n",
        "# Sample data\n",
        "sample_data = [\"example (.com)\", \"w3resource\", \"github (.com)\", \"stackoverflow (.com)\"]\n",
        "\n",
        "# Get the expected output\n",
        "output = remove_parenthesis_area(sample_data)\n",
        "\n",
        "# Print the result\n",
        "for s in output:\n",
        "    print(s)\n"
      ],
      "metadata": {
        "colab": {
          "base_uri": "https://localhost:8080/"
        },
        "id": "yqVFzRbkeQdf",
        "outputId": "1c0ad8e7-9604-4929-ad3d-8af619118c23"
      },
      "execution_count": 35,
      "outputs": [
        {
          "output_type": "stream",
          "name": "stdout",
          "text": [
            "example\n",
            "w3resource\n",
            "github\n",
            "stackoverflow\n"
          ]
        }
      ]
    },
    {
      "cell_type": "markdown",
      "metadata": {
        "id": "sRhveFHXe7nz"
      },
      "source": [
        "12. Write a Python program to concatenate the consecutive numbers in a given string. \\\n",
        "\n",
        "Original string:  \\\n",
        "Enter at 1 20 Kearny Street. The security desk can direct you to floor 1 6. Please have your identification ready.  \\\n",
        "\n",
        "After concatenating the consecutive numbers in the said string:  \\\n",
        "Enter at 120 Kearny Street. The security desk can direct you to floor 16. Please have your identification ready."
      ]
    },
    {
      "cell_type": "code",
      "execution_count": 36,
      "metadata": {
        "id": "4dcBL0RTe_zP",
        "colab": {
          "base_uri": "https://localhost:8080/"
        },
        "outputId": "2f3965cf-360c-4ddc-ff9b-2d3e778f742e"
      },
      "outputs": [
        {
          "output_type": "stream",
          "name": "stdout",
          "text": [
            "Original string:\n",
            "Enter at 1 20 Kearny Street. The security desk can direct you to floor 1 6. Please have your identification ready.\n",
            "\n",
            "After concatenating the consecutive numbers:\n",
            "Enter at 120 Kearny Street. The security desk can direct you to floor 16. Please have your identification ready.\n"
          ]
        }
      ],
      "source": [
        "import re\n",
        "\n",
        "def concatenate_consecutive_numbers(input_string):\n",
        "    def concat_numbers(match):\n",
        "        return match.group(1) + match.group(2)\n",
        "\n",
        "    result = re.sub(r'(\\b\\d+)\\s+(\\d+\\b)', concat_numbers, input_string)\n",
        "    return result\n",
        "\n",
        "# Original string\n",
        "original_string = \"Enter at 1 20 Kearny Street. The security desk can direct you to floor 1 6. Please have your identification ready.\"\n",
        "\n",
        "# Get the expected output\n",
        "output = concatenate_consecutive_numbers(original_string)\n",
        "\n",
        "# Print the result\n",
        "print(\"Original string:\")\n",
        "print(original_string)\n",
        "print(\"\\nAfter concatenating the consecutive numbers:\")\n",
        "print(output)\n"
      ]
    },
    {
      "cell_type": "markdown",
      "metadata": {
        "id": "rENrD10afBB3"
      },
      "source": []
    }
  ],
  "metadata": {
    "colab": {
      "provenance": []
    },
    "kernelspec": {
      "display_name": "Python 3",
      "name": "python3"
    },
    "language_info": {
      "name": "python"
    }
  },
  "nbformat": 4,
  "nbformat_minor": 0
}
