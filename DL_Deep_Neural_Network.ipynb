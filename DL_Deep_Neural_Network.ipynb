{
  "nbformat": 4,
  "nbformat_minor": 0,
  "metadata": {
    "colab": {
      "provenance": []
    },
    "kernelspec": {
      "name": "python3",
      "display_name": "Python 3"
    },
    "language_info": {
      "name": "python"
    }
  },
  "cells": [
    {
      "cell_type": "code",
      "source": [
        "import numpy as np\n",
        "import pandas as pd\n",
        "from sklearn.model_selection import train_test_split\n",
        "from sklearn.preprocessing import StandardScaler\n",
        "from sklearn.datasets import load_iris\n",
        "from keras.models import Sequential\n",
        "from keras.layers import Dense\n",
        "from keras.optimizers import Adam\n",
        "import tensorflow as tf\n"
      ],
      "metadata": {
        "id": "uoVs4_ibTcRy"
      },
      "execution_count": null,
      "outputs": []
    },
    {
      "cell_type": "markdown",
      "source": [
        "https://www.analyticsvidhya.com/blog/2021/10/a-comprehensive-guide-on-deep-learning-optimizers"
      ],
      "metadata": {
        "id": "NU3wJln7bpiS"
      }
    },
    {
      "cell_type": "code",
      "source": [],
      "metadata": {
        "id": "_OfNfv50bpDE"
      },
      "execution_count": null,
      "outputs": []
    },
    {
      "cell_type": "code",
      "source": [
        "# Load the Iris dataset\n",
        "iris = load_iris()\n",
        "X, y = iris.data, iris.target"
      ],
      "metadata": {
        "id": "MvOUERslTcAc"
      },
      "execution_count": null,
      "outputs": []
    },
    {
      "cell_type": "code",
      "source": [
        "# Split the data into training and testing sets\n",
        "X_train, X_test, y_train, y_test = train_test_split(X, y, test_size=0.2, random_state=42)\n",
        "\n",
        "# Standardize the features\n",
        "scaler = StandardScaler()\n",
        "X_train = scaler.fit_transform(X_train)\n",
        "X_test = scaler.transform(X_test)\n",
        "\n",
        "# Convert labels to one-hot encoding\n",
        "y_train = tf.keras.utils.to_categorical(y_train, num_classes=3)\n",
        "y_test = tf.keras.utils.to_categorical(y_test, num_classes=3)"
      ],
      "metadata": {
        "id": "c2xvNw81Tn9o"
      },
      "execution_count": null,
      "outputs": []
    },
    {
      "cell_type": "code",
      "source": [],
      "metadata": {
        "id": "Jyf1vnsncxO4"
      },
      "execution_count": null,
      "outputs": []
    },
    {
      "cell_type": "code",
      "source": [
        "# Create a Deep Neural Network model\n",
        "model = Sequential()\n",
        "model.add(Dense(100, activation='relu', input_dim=4))\n",
        "model.add(Dense(50, activation='relu'))\n",
        "model.add(Dense(3, activation='softmax'))"
      ],
      "metadata": {
        "id": "BQkb2OV5TsnQ"
      },
      "execution_count": null,
      "outputs": []
    },
    {
      "cell_type": "code",
      "source": [
        "X_train[0]"
      ],
      "metadata": {
        "colab": {
          "base_uri": "https://localhost:8080/"
        },
        "id": "cSxieWeFdX-p",
        "outputId": "8b4d9d0e-945a-412c-bea2-9f18839c2f41"
      },
      "execution_count": null,
      "outputs": [
        {
          "output_type": "execute_result",
          "data": {
            "text/plain": [
              "array([-1.47393679,  1.20365799, -1.56253475, -1.31260282])"
            ]
          },
          "metadata": {},
          "execution_count": 5
        }
      ]
    },
    {
      "cell_type": "code",
      "source": [
        "150/32"
      ],
      "metadata": {
        "colab": {
          "base_uri": "https://localhost:8080/"
        },
        "id": "tB_m03GLdj0o",
        "outputId": "e6fa1de8-79f5-4fb5-b4cf-2175ef1f9f14"
      },
      "execution_count": null,
      "outputs": [
        {
          "output_type": "execute_result",
          "data": {
            "text/plain": [
              "4.6875"
            ]
          },
          "metadata": {},
          "execution_count": 6
        }
      ]
    },
    {
      "cell_type": "code",
      "source": [
        "# Compile the model\n",
        "model.compile(optimizer=Adam(learning_rate=0.001), loss='categorical_crossentropy', metrics=['accuracy'])"
      ],
      "metadata": {
        "id": "2ONvE1jnUFVb"
      },
      "execution_count": null,
      "outputs": []
    },
    {
      "cell_type": "code",
      "source": [
        "len(y_train)"
      ],
      "metadata": {
        "id": "wrms94nFd7eU",
        "outputId": "b044cac3-f55c-479b-fdcc-cfd70d489df3",
        "colab": {
          "base_uri": "https://localhost:8080/"
        }
      },
      "execution_count": null,
      "outputs": [
        {
          "output_type": "execute_result",
          "data": {
            "text/plain": [
              "120"
            ]
          },
          "metadata": {},
          "execution_count": 8
        }
      ]
    },
    {
      "cell_type": "code",
      "source": [
        "len(X_train)"
      ],
      "metadata": {
        "id": "Ze2m40dxd_AQ",
        "outputId": "9afe9e9a-6e1d-4a72-c443-88cca522f88c",
        "colab": {
          "base_uri": "https://localhost:8080/"
        }
      },
      "execution_count": null,
      "outputs": [
        {
          "output_type": "execute_result",
          "data": {
            "text/plain": [
              "120"
            ]
          },
          "metadata": {},
          "execution_count": 9
        }
      ]
    },
    {
      "cell_type": "markdown",
      "source": [
        "An epoch is composed of many iterations (or batches). Iterations: the number of batches needed to complete one Epoch. Batch Size: The number of training samples used in one iteration. Epoch: one full cycle through the training dataset"
      ],
      "metadata": {
        "id": "eMxJ2VSOo7tz"
      }
    },
    {
      "cell_type": "code",
      "source": [
        "X_train.shape"
      ],
      "metadata": {
        "colab": {
          "base_uri": "https://localhost:8080/"
        },
        "id": "VOBgXEzPo7ac",
        "outputId": "6008a200-873e-4e95-b56c-ce022c6283f7"
      },
      "execution_count": null,
      "outputs": [
        {
          "output_type": "execute_result",
          "data": {
            "text/plain": [
              "(120, 4)"
            ]
          },
          "metadata": {},
          "execution_count": 8
        }
      ]
    },
    {
      "cell_type": "code",
      "source": [
        "y_train.shape"
      ],
      "metadata": {
        "colab": {
          "base_uri": "https://localhost:8080/"
        },
        "id": "caM5WLhkpMqS",
        "outputId": "63860796-d0a6-485d-f715-ad6b19238003"
      },
      "execution_count": null,
      "outputs": [
        {
          "output_type": "execute_result",
          "data": {
            "text/plain": [
              "(120,)"
            ]
          },
          "metadata": {},
          "execution_count": 9
        }
      ]
    },
    {
      "cell_type": "code",
      "source": [
        "# Train the model\n",
        "history=model.fit(X_train, y_train, epochs=100, batch_size=32, verbose=1,\n",
        "                  validation_data=(X_test,y_test))"
      ],
      "metadata": {
        "colab": {
          "base_uri": "https://localhost:8080/"
        },
        "id": "_FWC90RgUJMd",
        "outputId": "2b1af101-9874-40c3-c818-59a62e99f12b"
      },
      "execution_count": null,
      "outputs": [
        {
          "output_type": "stream",
          "name": "stdout",
          "text": [
            "Epoch 1/100\n",
            "4/4 [==============================] - 2s 125ms/step - loss: 1.1026 - accuracy: 0.3667 - val_loss: 0.9682 - val_accuracy: 0.5667\n",
            "Epoch 2/100\n",
            "4/4 [==============================] - 0s 17ms/step - loss: 0.9478 - accuracy: 0.6917 - val_loss: 0.8349 - val_accuracy: 0.8333\n",
            "Epoch 3/100\n",
            "4/4 [==============================] - 0s 11ms/step - loss: 0.8294 - accuracy: 0.8083 - val_loss: 0.7308 - val_accuracy: 0.8333\n",
            "Epoch 4/100\n",
            "4/4 [==============================] - 0s 12ms/step - loss: 0.7412 - accuracy: 0.8083 - val_loss: 0.6480 - val_accuracy: 0.8333\n",
            "Epoch 5/100\n",
            "4/4 [==============================] - 0s 12ms/step - loss: 0.6679 - accuracy: 0.8167 - val_loss: 0.5783 - val_accuracy: 0.8333\n",
            "Epoch 6/100\n",
            "4/4 [==============================] - 0s 11ms/step - loss: 0.6063 - accuracy: 0.8167 - val_loss: 0.5209 - val_accuracy: 0.8333\n",
            "Epoch 7/100\n",
            "4/4 [==============================] - 0s 12ms/step - loss: 0.5560 - accuracy: 0.8167 - val_loss: 0.4734 - val_accuracy: 0.8333\n",
            "Epoch 8/100\n",
            "4/4 [==============================] - 0s 11ms/step - loss: 0.5152 - accuracy: 0.8083 - val_loss: 0.4321 - val_accuracy: 0.8667\n",
            "Epoch 9/100\n",
            "4/4 [==============================] - 0s 22ms/step - loss: 0.4785 - accuracy: 0.8167 - val_loss: 0.3992 - val_accuracy: 0.8667\n",
            "Epoch 10/100\n",
            "4/4 [==============================] - 0s 18ms/step - loss: 0.4494 - accuracy: 0.8250 - val_loss: 0.3711 - val_accuracy: 0.8667\n",
            "Epoch 11/100\n",
            "4/4 [==============================] - 0s 22ms/step - loss: 0.4236 - accuracy: 0.8250 - val_loss: 0.3480 - val_accuracy: 0.9000\n",
            "Epoch 12/100\n",
            "4/4 [==============================] - 0s 21ms/step - loss: 0.4030 - accuracy: 0.8250 - val_loss: 0.3273 - val_accuracy: 0.9000\n",
            "Epoch 13/100\n",
            "4/4 [==============================] - 0s 24ms/step - loss: 0.3837 - accuracy: 0.8250 - val_loss: 0.3091 - val_accuracy: 0.9000\n",
            "Epoch 14/100\n",
            "4/4 [==============================] - 0s 18ms/step - loss: 0.3664 - accuracy: 0.8250 - val_loss: 0.2943 - val_accuracy: 0.9000\n",
            "Epoch 15/100\n",
            "4/4 [==============================] - 0s 16ms/step - loss: 0.3503 - accuracy: 0.8333 - val_loss: 0.2800 - val_accuracy: 0.9000\n",
            "Epoch 16/100\n",
            "4/4 [==============================] - 0s 23ms/step - loss: 0.3359 - accuracy: 0.8417 - val_loss: 0.2669 - val_accuracy: 0.9000\n",
            "Epoch 17/100\n",
            "4/4 [==============================] - 0s 26ms/step - loss: 0.3230 - accuracy: 0.8500 - val_loss: 0.2544 - val_accuracy: 0.9000\n",
            "Epoch 18/100\n",
            "4/4 [==============================] - 0s 22ms/step - loss: 0.3106 - accuracy: 0.8583 - val_loss: 0.2436 - val_accuracy: 0.9000\n",
            "Epoch 19/100\n",
            "4/4 [==============================] - 0s 21ms/step - loss: 0.3004 - accuracy: 0.8583 - val_loss: 0.2328 - val_accuracy: 0.9000\n",
            "Epoch 20/100\n",
            "4/4 [==============================] - 0s 21ms/step - loss: 0.2888 - accuracy: 0.8667 - val_loss: 0.2239 - val_accuracy: 0.9000\n",
            "Epoch 21/100\n",
            "4/4 [==============================] - 0s 20ms/step - loss: 0.2764 - accuracy: 0.8750 - val_loss: 0.2153 - val_accuracy: 0.9000\n",
            "Epoch 22/100\n",
            "4/4 [==============================] - 0s 16ms/step - loss: 0.2657 - accuracy: 0.8833 - val_loss: 0.2082 - val_accuracy: 0.9000\n",
            "Epoch 23/100\n",
            "4/4 [==============================] - 0s 15ms/step - loss: 0.2555 - accuracy: 0.8833 - val_loss: 0.2002 - val_accuracy: 0.9333\n",
            "Epoch 24/100\n",
            "4/4 [==============================] - 0s 17ms/step - loss: 0.2452 - accuracy: 0.9000 - val_loss: 0.1894 - val_accuracy: 0.9333\n",
            "Epoch 25/100\n",
            "4/4 [==============================] - 0s 21ms/step - loss: 0.2356 - accuracy: 0.9417 - val_loss: 0.1803 - val_accuracy: 0.9333\n",
            "Epoch 26/100\n",
            "4/4 [==============================] - 0s 20ms/step - loss: 0.2256 - accuracy: 0.9500 - val_loss: 0.1742 - val_accuracy: 0.9333\n",
            "Epoch 27/100\n",
            "4/4 [==============================] - 0s 16ms/step - loss: 0.2154 - accuracy: 0.9583 - val_loss: 0.1674 - val_accuracy: 0.9333\n",
            "Epoch 28/100\n",
            "4/4 [==============================] - 0s 23ms/step - loss: 0.2076 - accuracy: 0.9583 - val_loss: 0.1615 - val_accuracy: 0.9333\n",
            "Epoch 29/100\n",
            "4/4 [==============================] - 0s 16ms/step - loss: 0.1988 - accuracy: 0.9583 - val_loss: 0.1533 - val_accuracy: 0.9667\n",
            "Epoch 30/100\n",
            "4/4 [==============================] - 0s 22ms/step - loss: 0.1903 - accuracy: 0.9583 - val_loss: 0.1466 - val_accuracy: 0.9667\n",
            "Epoch 31/100\n",
            "4/4 [==============================] - 0s 21ms/step - loss: 0.1826 - accuracy: 0.9583 - val_loss: 0.1383 - val_accuracy: 1.0000\n",
            "Epoch 32/100\n",
            "4/4 [==============================] - 0s 22ms/step - loss: 0.1754 - accuracy: 0.9583 - val_loss: 0.1326 - val_accuracy: 1.0000\n",
            "Epoch 33/100\n",
            "4/4 [==============================] - 0s 24ms/step - loss: 0.1675 - accuracy: 0.9583 - val_loss: 0.1263 - val_accuracy: 1.0000\n",
            "Epoch 34/100\n",
            "4/4 [==============================] - 0s 23ms/step - loss: 0.1625 - accuracy: 0.9583 - val_loss: 0.1194 - val_accuracy: 1.0000\n",
            "Epoch 35/100\n",
            "4/4 [==============================] - 0s 21ms/step - loss: 0.1540 - accuracy: 0.9583 - val_loss: 0.1150 - val_accuracy: 1.0000\n",
            "Epoch 36/100\n",
            "4/4 [==============================] - 0s 24ms/step - loss: 0.1502 - accuracy: 0.9583 - val_loss: 0.1156 - val_accuracy: 1.0000\n",
            "Epoch 37/100\n",
            "4/4 [==============================] - 0s 19ms/step - loss: 0.1430 - accuracy: 0.9583 - val_loss: 0.1120 - val_accuracy: 1.0000\n",
            "Epoch 38/100\n",
            "4/4 [==============================] - 0s 22ms/step - loss: 0.1383 - accuracy: 0.9500 - val_loss: 0.1049 - val_accuracy: 1.0000\n",
            "Epoch 39/100\n",
            "4/4 [==============================] - 0s 23ms/step - loss: 0.1317 - accuracy: 0.9500 - val_loss: 0.0998 - val_accuracy: 1.0000\n",
            "Epoch 40/100\n",
            "4/4 [==============================] - 0s 22ms/step - loss: 0.1269 - accuracy: 0.9583 - val_loss: 0.0960 - val_accuracy: 1.0000\n",
            "Epoch 41/100\n",
            "4/4 [==============================] - 0s 24ms/step - loss: 0.1214 - accuracy: 0.9667 - val_loss: 0.0942 - val_accuracy: 1.0000\n",
            "Epoch 42/100\n",
            "4/4 [==============================] - 0s 19ms/step - loss: 0.1169 - accuracy: 0.9667 - val_loss: 0.0911 - val_accuracy: 1.0000\n",
            "Epoch 43/100\n",
            "4/4 [==============================] - 0s 21ms/step - loss: 0.1129 - accuracy: 0.9667 - val_loss: 0.0886 - val_accuracy: 1.0000\n",
            "Epoch 44/100\n",
            "4/4 [==============================] - 0s 18ms/step - loss: 0.1096 - accuracy: 0.9667 - val_loss: 0.0852 - val_accuracy: 1.0000\n",
            "Epoch 45/100\n",
            "4/4 [==============================] - 0s 20ms/step - loss: 0.1099 - accuracy: 0.9583 - val_loss: 0.0795 - val_accuracy: 1.0000\n",
            "Epoch 46/100\n",
            "4/4 [==============================] - 0s 22ms/step - loss: 0.1039 - accuracy: 0.9583 - val_loss: 0.0775 - val_accuracy: 1.0000\n",
            "Epoch 47/100\n",
            "4/4 [==============================] - 0s 23ms/step - loss: 0.1014 - accuracy: 0.9667 - val_loss: 0.0776 - val_accuracy: 1.0000\n",
            "Epoch 48/100\n",
            "4/4 [==============================] - 0s 24ms/step - loss: 0.0968 - accuracy: 0.9667 - val_loss: 0.0747 - val_accuracy: 1.0000\n",
            "Epoch 49/100\n",
            "4/4 [==============================] - 0s 23ms/step - loss: 0.0945 - accuracy: 0.9667 - val_loss: 0.0722 - val_accuracy: 1.0000\n",
            "Epoch 50/100\n",
            "4/4 [==============================] - 0s 22ms/step - loss: 0.0915 - accuracy: 0.9667 - val_loss: 0.0700 - val_accuracy: 1.0000\n",
            "Epoch 51/100\n",
            "4/4 [==============================] - 0s 13ms/step - loss: 0.0888 - accuracy: 0.9667 - val_loss: 0.0669 - val_accuracy: 1.0000\n",
            "Epoch 52/100\n",
            "4/4 [==============================] - 0s 11ms/step - loss: 0.0869 - accuracy: 0.9667 - val_loss: 0.0643 - val_accuracy: 1.0000\n",
            "Epoch 53/100\n",
            "4/4 [==============================] - 0s 13ms/step - loss: 0.0859 - accuracy: 0.9750 - val_loss: 0.0631 - val_accuracy: 1.0000\n",
            "Epoch 54/100\n",
            "4/4 [==============================] - 0s 11ms/step - loss: 0.0835 - accuracy: 0.9750 - val_loss: 0.0604 - val_accuracy: 1.0000\n",
            "Epoch 55/100\n",
            "4/4 [==============================] - 0s 18ms/step - loss: 0.0825 - accuracy: 0.9583 - val_loss: 0.0621 - val_accuracy: 1.0000\n",
            "Epoch 56/100\n",
            "4/4 [==============================] - 0s 12ms/step - loss: 0.0813 - accuracy: 0.9667 - val_loss: 0.0631 - val_accuracy: 1.0000\n",
            "Epoch 57/100\n",
            "4/4 [==============================] - 0s 12ms/step - loss: 0.0783 - accuracy: 0.9750 - val_loss: 0.0595 - val_accuracy: 1.0000\n",
            "Epoch 58/100\n",
            "4/4 [==============================] - 0s 12ms/step - loss: 0.0763 - accuracy: 0.9750 - val_loss: 0.0576 - val_accuracy: 1.0000\n",
            "Epoch 59/100\n",
            "4/4 [==============================] - 0s 11ms/step - loss: 0.0753 - accuracy: 0.9750 - val_loss: 0.0567 - val_accuracy: 1.0000\n",
            "Epoch 60/100\n",
            "4/4 [==============================] - 0s 11ms/step - loss: 0.0739 - accuracy: 0.9750 - val_loss: 0.0541 - val_accuracy: 1.0000\n",
            "Epoch 61/100\n",
            "4/4 [==============================] - 0s 12ms/step - loss: 0.0721 - accuracy: 0.9833 - val_loss: 0.0532 - val_accuracy: 1.0000\n",
            "Epoch 62/100\n",
            "4/4 [==============================] - 0s 12ms/step - loss: 0.0709 - accuracy: 0.9833 - val_loss: 0.0525 - val_accuracy: 1.0000\n",
            "Epoch 63/100\n",
            "4/4 [==============================] - 0s 11ms/step - loss: 0.0699 - accuracy: 0.9833 - val_loss: 0.0528 - val_accuracy: 1.0000\n",
            "Epoch 64/100\n",
            "4/4 [==============================] - 0s 12ms/step - loss: 0.0686 - accuracy: 0.9833 - val_loss: 0.0522 - val_accuracy: 1.0000\n",
            "Epoch 65/100\n",
            "4/4 [==============================] - 0s 11ms/step - loss: 0.0682 - accuracy: 0.9750 - val_loss: 0.0515 - val_accuracy: 1.0000\n",
            "Epoch 66/100\n",
            "4/4 [==============================] - 0s 11ms/step - loss: 0.0666 - accuracy: 0.9750 - val_loss: 0.0499 - val_accuracy: 1.0000\n",
            "Epoch 67/100\n",
            "4/4 [==============================] - 0s 12ms/step - loss: 0.0666 - accuracy: 0.9750 - val_loss: 0.0474 - val_accuracy: 1.0000\n",
            "Epoch 68/100\n",
            "4/4 [==============================] - 0s 11ms/step - loss: 0.0655 - accuracy: 0.9750 - val_loss: 0.0459 - val_accuracy: 1.0000\n",
            "Epoch 69/100\n",
            "4/4 [==============================] - 0s 12ms/step - loss: 0.0638 - accuracy: 0.9833 - val_loss: 0.0455 - val_accuracy: 1.0000\n",
            "Epoch 70/100\n",
            "4/4 [==============================] - 0s 13ms/step - loss: 0.0627 - accuracy: 0.9750 - val_loss: 0.0449 - val_accuracy: 1.0000\n",
            "Epoch 71/100\n",
            "4/4 [==============================] - 0s 11ms/step - loss: 0.0620 - accuracy: 0.9750 - val_loss: 0.0447 - val_accuracy: 1.0000\n",
            "Epoch 72/100\n",
            "4/4 [==============================] - 0s 13ms/step - loss: 0.0624 - accuracy: 0.9750 - val_loss: 0.0434 - val_accuracy: 1.0000\n",
            "Epoch 73/100\n",
            "4/4 [==============================] - 0s 11ms/step - loss: 0.0608 - accuracy: 0.9750 - val_loss: 0.0423 - val_accuracy: 1.0000\n",
            "Epoch 74/100\n",
            "4/4 [==============================] - 0s 11ms/step - loss: 0.0599 - accuracy: 0.9750 - val_loss: 0.0426 - val_accuracy: 1.0000\n",
            "Epoch 75/100\n",
            "4/4 [==============================] - 0s 11ms/step - loss: 0.0592 - accuracy: 0.9833 - val_loss: 0.0420 - val_accuracy: 1.0000\n",
            "Epoch 76/100\n",
            "4/4 [==============================] - 0s 12ms/step - loss: 0.0586 - accuracy: 0.9750 - val_loss: 0.0403 - val_accuracy: 1.0000\n",
            "Epoch 77/100\n",
            "4/4 [==============================] - 0s 12ms/step - loss: 0.0580 - accuracy: 0.9750 - val_loss: 0.0398 - val_accuracy: 1.0000\n",
            "Epoch 78/100\n",
            "4/4 [==============================] - 0s 14ms/step - loss: 0.0571 - accuracy: 0.9750 - val_loss: 0.0392 - val_accuracy: 1.0000\n",
            "Epoch 79/100\n",
            "4/4 [==============================] - 0s 12ms/step - loss: 0.0563 - accuracy: 0.9750 - val_loss: 0.0385 - val_accuracy: 1.0000\n",
            "Epoch 80/100\n",
            "4/4 [==============================] - 0s 13ms/step - loss: 0.0564 - accuracy: 0.9750 - val_loss: 0.0372 - val_accuracy: 1.0000\n",
            "Epoch 81/100\n",
            "4/4 [==============================] - 0s 11ms/step - loss: 0.0579 - accuracy: 0.9750 - val_loss: 0.0370 - val_accuracy: 1.0000\n",
            "Epoch 82/100\n",
            "4/4 [==============================] - 0s 11ms/step - loss: 0.0548 - accuracy: 0.9833 - val_loss: 0.0352 - val_accuracy: 1.0000\n",
            "Epoch 83/100\n",
            "4/4 [==============================] - 0s 11ms/step - loss: 0.0547 - accuracy: 0.9750 - val_loss: 0.0346 - val_accuracy: 1.0000\n",
            "Epoch 84/100\n",
            "4/4 [==============================] - 0s 12ms/step - loss: 0.0539 - accuracy: 0.9750 - val_loss: 0.0342 - val_accuracy: 1.0000\n",
            "Epoch 85/100\n",
            "4/4 [==============================] - 0s 11ms/step - loss: 0.0534 - accuracy: 0.9750 - val_loss: 0.0329 - val_accuracy: 1.0000\n",
            "Epoch 86/100\n",
            "4/4 [==============================] - 0s 11ms/step - loss: 0.0537 - accuracy: 0.9833 - val_loss: 0.0329 - val_accuracy: 1.0000\n",
            "Epoch 87/100\n",
            "4/4 [==============================] - 0s 12ms/step - loss: 0.0528 - accuracy: 0.9750 - val_loss: 0.0326 - val_accuracy: 1.0000\n",
            "Epoch 88/100\n",
            "4/4 [==============================] - 0s 12ms/step - loss: 0.0522 - accuracy: 0.9750 - val_loss: 0.0323 - val_accuracy: 1.0000\n",
            "Epoch 89/100\n",
            "4/4 [==============================] - 0s 12ms/step - loss: 0.0516 - accuracy: 0.9750 - val_loss: 0.0318 - val_accuracy: 1.0000\n",
            "Epoch 90/100\n",
            "4/4 [==============================] - 0s 11ms/step - loss: 0.0522 - accuracy: 0.9750 - val_loss: 0.0309 - val_accuracy: 1.0000\n",
            "Epoch 91/100\n",
            "4/4 [==============================] - 0s 11ms/step - loss: 0.0516 - accuracy: 0.9833 - val_loss: 0.0301 - val_accuracy: 1.0000\n",
            "Epoch 92/100\n",
            "4/4 [==============================] - 0s 12ms/step - loss: 0.0508 - accuracy: 0.9750 - val_loss: 0.0287 - val_accuracy: 1.0000\n",
            "Epoch 93/100\n",
            "4/4 [==============================] - 0s 12ms/step - loss: 0.0501 - accuracy: 0.9750 - val_loss: 0.0283 - val_accuracy: 1.0000\n",
            "Epoch 94/100\n",
            "4/4 [==============================] - 0s 12ms/step - loss: 0.0502 - accuracy: 0.9750 - val_loss: 0.0283 - val_accuracy: 1.0000\n",
            "Epoch 95/100\n",
            "4/4 [==============================] - 0s 12ms/step - loss: 0.0505 - accuracy: 0.9750 - val_loss: 0.0277 - val_accuracy: 1.0000\n",
            "Epoch 96/100\n",
            "4/4 [==============================] - 0s 12ms/step - loss: 0.0491 - accuracy: 0.9833 - val_loss: 0.0276 - val_accuracy: 1.0000\n",
            "Epoch 97/100\n",
            "4/4 [==============================] - 0s 12ms/step - loss: 0.0488 - accuracy: 0.9750 - val_loss: 0.0274 - val_accuracy: 1.0000\n",
            "Epoch 98/100\n",
            "4/4 [==============================] - 0s 11ms/step - loss: 0.0492 - accuracy: 0.9750 - val_loss: 0.0274 - val_accuracy: 1.0000\n",
            "Epoch 99/100\n",
            "4/4 [==============================] - 0s 11ms/step - loss: 0.0483 - accuracy: 0.9833 - val_loss: 0.0270 - val_accuracy: 1.0000\n",
            "Epoch 100/100\n",
            "4/4 [==============================] - 0s 15ms/step - loss: 0.0477 - accuracy: 0.9833 - val_loss: 0.0273 - val_accuracy: 1.0000\n"
          ]
        }
      ]
    },
    {
      "cell_type": "code",
      "source": [
        "X_train.shape"
      ],
      "metadata": {
        "colab": {
          "base_uri": "https://localhost:8080/"
        },
        "id": "NYg-NjIAgwGn",
        "outputId": "fe9b9b0c-b5e8-4e3c-b03e-8dfa0330ae6c"
      },
      "execution_count": null,
      "outputs": [
        {
          "output_type": "execute_result",
          "data": {
            "text/plain": [
              "(120, 4)"
            ]
          },
          "metadata": {},
          "execution_count": 10
        }
      ]
    },
    {
      "cell_type": "code",
      "execution_count": null,
      "metadata": {
        "colab": {
          "base_uri": "https://localhost:8080/"
        },
        "id": "i66GuEqISf5N",
        "outputId": "ff93a509-c301-4d0a-a50b-6207b476e247"
      },
      "outputs": [
        {
          "output_type": "stream",
          "name": "stdout",
          "text": [
            "1/1 [==============================] - 0s 25ms/step - loss: 0.0273 - accuracy: 1.0000\n",
            "Test Loss: 0.027254516258835793\n",
            "Test Accuracy: 1.0\n"
          ]
        }
      ],
      "source": [
        "# Evaluate the model on the test set\n",
        "loss, accuracy = model.evaluate(X_test, y_test)\n",
        "print(\"Test Loss:\", loss)\n",
        "print(\"Test Accuracy:\", accuracy)\n"
      ]
    },
    {
      "cell_type": "code",
      "source": [
        "model.summary()"
      ],
      "metadata": {
        "colab": {
          "base_uri": "https://localhost:8080/"
        },
        "id": "t_SQf5IrUfn6",
        "outputId": "25534b30-8e44-4a29-c171-ec2ed2d282bf"
      },
      "execution_count": null,
      "outputs": [
        {
          "output_type": "stream",
          "name": "stdout",
          "text": [
            "Model: \"sequential\"\n",
            "_________________________________________________________________\n",
            " Layer (type)                Output Shape              Param #   \n",
            "=================================================================\n",
            " dense (Dense)               (None, 100)               500       \n",
            "                                                                 \n",
            " dense_1 (Dense)             (None, 50)                5050      \n",
            "                                                                 \n",
            " dense_2 (Dense)             (None, 3)                 153       \n",
            "                                                                 \n",
            "=================================================================\n",
            "Total params: 5703 (22.28 KB)\n",
            "Trainable params: 5703 (22.28 KB)\n",
            "Non-trainable params: 0 (0.00 Byte)\n",
            "_________________________________________________________________\n"
          ]
        }
      ]
    },
    {
      "cell_type": "code",
      "source": [
        "# Plot accuracy and loss versus epoch\n",
        "import matplotlib.pyplot as plt\n",
        "plt.plot(history.history['accuracy'], label='Train Accuracy')\n",
        "plt.plot(history.history['val_accuracy'], label='Validation Accuracy')\n",
        "plt.xlabel('Epoch')\n",
        "plt.ylabel('Accuracy')\n",
        "plt.legend()\n",
        "plt.show()"
      ],
      "metadata": {
        "id": "fzLBIKH6o3xJ",
        "colab": {
          "base_uri": "https://localhost:8080/",
          "height": 449
        },
        "outputId": "bf5f47e8-2bbe-44e6-9ff6-d05c075931f3"
      },
      "execution_count": null,
      "outputs": [
        {
          "output_type": "display_data",
          "data": {
            "text/plain": [
              "<Figure size 640x480 with 1 Axes>"
            ],
            "image/png": "[encoded data removed]"
          },
          "metadata": {}
        }
      ]
    },
    {
      "cell_type": "code",
      "source": [
        "plt.plot(history.history['loss'], label='Train Loss')\n",
        "plt.plot(history.history['val_loss'], label='Validation Loss')\n",
        "plt.xlabel('Epoch')\n",
        "plt.ylabel('Loss')\n",
        "plt.legend()\n",
        "plt.show()"
      ],
      "metadata": {
        "id": "oBHbxuPao4rf",
        "colab": {
          "base_uri": "https://localhost:8080/",
          "height": 449
        },
        "outputId": "6d64af33-e4be-4a41-fe49-bcf1a250231c"
      },
      "execution_count": null,
      "outputs": [
        {
          "output_type": "display_data",
          "data": {
            "text/plain": [
              "<Figure size 640x480 with 1 Axes>"
            ],
            "image/png": "[encoded data removed]"
          },
          "metadata": {}
        }
      ]
    },
    {
      "cell_type": "markdown",
      "source": [
        "##Using tensorflow"
      ],
      "metadata": {
        "id": "7leOZB45Pw-U"
      }
    },
    {
      "cell_type": "code",
      "source": [
        "from sklearn.datasets import load_iris\n",
        "from sklearn.model_selection import train_test_split\n",
        "from sklearn.preprocessing import StandardScaler\n",
        "import numpy as np\n",
        "import tensorflow as tf\n",
        "from tensorflow.keras.models import Sequential\n",
        "from tensorflow.keras.layers import Dense\n",
        "from tensorflow.keras.optimizers import Adam\n",
        "\n",
        "# Load the Iris dataset\n",
        "iris = load_iris()\n",
        "X, y = iris.data, iris.target\n",
        "\n",
        "# Split the dataset into training and testing sets\n",
        "X_train, X_test, y_train, y_test = train_test_split(X, y, test_size=0.2, random_state=42)\n",
        "\n",
        "# Standardize the features\n",
        "scaler = StandardScaler()\n",
        "X_train = scaler.fit_transform(X_train)\n",
        "X_test = scaler.transform(X_test)\n",
        "\n",
        "# Convert labels to one-hot encoded format\n",
        "y_train_one_hot = tf.keras.utils.to_categorical(y_train, num_classes=3)\n",
        "y_test_one_hot = tf.keras.utils.to_categorical(y_test, num_classes=3)\n",
        "\n",
        "# Define and compile your model\n",
        "model = Sequential()\n",
        "model.add(Dense(100, activation='relu', input_dim=4))\n",
        "model.add(Dense(50, activation='relu'))\n",
        "model.add(Dense(3, activation='softmax'))\n",
        "model.compile(optimizer=Adam(learning_rate=0.001), loss='categorical_crossentropy', metrics=['accuracy'])\n",
        "\n",
        "# Train your model\n",
        "history = model.fit(X_train, y_train_one_hot, epochs=100, batch_size=32, verbose=1, validation_data=(X_test, y_test_one_hot))"
      ],
      "metadata": {
        "colab": {
          "base_uri": "https://localhost:8080/"
        },
        "id": "zEdqrzZeqG0p",
        "outputId": "0a362021-b7da-4c32-fc8b-1fc74bbac173"
      },
      "execution_count": null,
      "outputs": [
        {
          "output_type": "stream",
          "name": "stdout",
          "text": [
            "Epoch 1/100\n",
            "4/4 [==============================] - 1s 73ms/step - loss: 1.0672 - accuracy: 0.3750 - val_loss: 0.9499 - val_accuracy: 0.6000\n",
            "Epoch 2/100\n",
            "4/4 [==============================] - 0s 11ms/step - loss: 0.9106 - accuracy: 0.5667 - val_loss: 0.8030 - val_accuracy: 0.8333\n",
            "Epoch 3/100\n",
            "4/4 [==============================] - 0s 17ms/step - loss: 0.7925 - accuracy: 0.7583 - val_loss: 0.6907 - val_accuracy: 0.8667\n",
            "Epoch 4/100\n",
            "4/4 [==============================] - 0s 11ms/step - loss: 0.7033 - accuracy: 0.7667 - val_loss: 0.6025 - val_accuracy: 0.8000\n",
            "Epoch 5/100\n",
            "4/4 [==============================] - 0s 11ms/step - loss: 0.6303 - accuracy: 0.7833 - val_loss: 0.5356 - val_accuracy: 0.8000\n",
            "Epoch 6/100\n",
            "4/4 [==============================] - 0s 11ms/step - loss: 0.5765 - accuracy: 0.7917 - val_loss: 0.4844 - val_accuracy: 0.8000\n",
            "Epoch 7/100\n",
            "4/4 [==============================] - 0s 11ms/step - loss: 0.5328 - accuracy: 0.8000 - val_loss: 0.4446 - val_accuracy: 0.8333\n",
            "Epoch 8/100\n",
            "4/4 [==============================] - 0s 11ms/step - loss: 0.4975 - accuracy: 0.8000 - val_loss: 0.4126 - val_accuracy: 0.8333\n",
            "Epoch 9/100\n",
            "4/4 [==============================] - 0s 11ms/step - loss: 0.4678 - accuracy: 0.8167 - val_loss: 0.3855 - val_accuracy: 0.9000\n",
            "Epoch 10/100\n",
            "4/4 [==============================] - 0s 12ms/step - loss: 0.4418 - accuracy: 0.8167 - val_loss: 0.3614 - val_accuracy: 0.9000\n",
            "Epoch 11/100\n",
            "4/4 [==============================] - 0s 12ms/step - loss: 0.4187 - accuracy: 0.8167 - val_loss: 0.3403 - val_accuracy: 0.9000\n",
            "Epoch 12/100\n",
            "4/4 [==============================] - 0s 11ms/step - loss: 0.3972 - accuracy: 0.8250 - val_loss: 0.3213 - val_accuracy: 0.9000\n",
            "Epoch 13/100\n",
            "4/4 [==============================] - 0s 11ms/step - loss: 0.3782 - accuracy: 0.8500 - val_loss: 0.3040 - val_accuracy: 0.9000\n",
            "Epoch 14/100\n",
            "4/4 [==============================] - 0s 11ms/step - loss: 0.3615 - accuracy: 0.8417 - val_loss: 0.2890 - val_accuracy: 0.9333\n",
            "Epoch 15/100\n",
            "4/4 [==============================] - 0s 11ms/step - loss: 0.3437 - accuracy: 0.8417 - val_loss: 0.2733 - val_accuracy: 0.9333\n",
            "Epoch 16/100\n",
            "4/4 [==============================] - 0s 12ms/step - loss: 0.3279 - accuracy: 0.8583 - val_loss: 0.2585 - val_accuracy: 0.9333\n",
            "Epoch 17/100\n",
            "4/4 [==============================] - 0s 11ms/step - loss: 0.3144 - accuracy: 0.8667 - val_loss: 0.2446 - val_accuracy: 0.9333\n",
            "Epoch 18/100\n",
            "4/4 [==============================] - 0s 11ms/step - loss: 0.2993 - accuracy: 0.8833 - val_loss: 0.2315 - val_accuracy: 0.9333\n",
            "Epoch 19/100\n",
            "4/4 [==============================] - 0s 18ms/step - loss: 0.2881 - accuracy: 0.8833 - val_loss: 0.2192 - val_accuracy: 0.9333\n",
            "Epoch 20/100\n",
            "4/4 [==============================] - 0s 15ms/step - loss: 0.2750 - accuracy: 0.8917 - val_loss: 0.2081 - val_accuracy: 0.9333\n",
            "Epoch 21/100\n",
            "4/4 [==============================] - 0s 13ms/step - loss: 0.2637 - accuracy: 0.8917 - val_loss: 0.1977 - val_accuracy: 0.9333\n",
            "Epoch 22/100\n",
            "4/4 [==============================] - 0s 11ms/step - loss: 0.2531 - accuracy: 0.9000 - val_loss: 0.1885 - val_accuracy: 0.9333\n",
            "Epoch 23/100\n",
            "4/4 [==============================] - 0s 11ms/step - loss: 0.2419 - accuracy: 0.9167 - val_loss: 0.1785 - val_accuracy: 0.9333\n",
            "Epoch 24/100\n",
            "4/4 [==============================] - 0s 11ms/step - loss: 0.2307 - accuracy: 0.9250 - val_loss: 0.1694 - val_accuracy: 0.9333\n",
            "Epoch 25/100\n",
            "4/4 [==============================] - 0s 12ms/step - loss: 0.2201 - accuracy: 0.9417 - val_loss: 0.1609 - val_accuracy: 0.9333\n",
            "Epoch 26/100\n",
            "4/4 [==============================] - 0s 12ms/step - loss: 0.2103 - accuracy: 0.9417 - val_loss: 0.1530 - val_accuracy: 0.9333\n",
            "Epoch 27/100\n",
            "4/4 [==============================] - 0s 11ms/step - loss: 0.2009 - accuracy: 0.9417 - val_loss: 0.1454 - val_accuracy: 0.9333\n",
            "Epoch 28/100\n",
            "4/4 [==============================] - 0s 12ms/step - loss: 0.1918 - accuracy: 0.9500 - val_loss: 0.1384 - val_accuracy: 0.9333\n",
            "Epoch 29/100\n",
            "4/4 [==============================] - 0s 11ms/step - loss: 0.1826 - accuracy: 0.9583 - val_loss: 0.1305 - val_accuracy: 0.9667\n",
            "Epoch 30/100\n",
            "4/4 [==============================] - 0s 12ms/step - loss: 0.1736 - accuracy: 0.9583 - val_loss: 0.1237 - val_accuracy: 1.0000\n",
            "Epoch 31/100\n",
            "4/4 [==============================] - 0s 11ms/step - loss: 0.1658 - accuracy: 0.9583 - val_loss: 0.1176 - val_accuracy: 1.0000\n",
            "Epoch 32/100\n",
            "4/4 [==============================] - 0s 11ms/step - loss: 0.1580 - accuracy: 0.9583 - val_loss: 0.1125 - val_accuracy: 1.0000\n",
            "Epoch 33/100\n",
            "4/4 [==============================] - 0s 11ms/step - loss: 0.1506 - accuracy: 0.9583 - val_loss: 0.1076 - val_accuracy: 1.0000\n",
            "Epoch 34/100\n",
            "4/4 [==============================] - 0s 12ms/step - loss: 0.1434 - accuracy: 0.9583 - val_loss: 0.1018 - val_accuracy: 1.0000\n",
            "Epoch 35/100\n",
            "4/4 [==============================] - 0s 11ms/step - loss: 0.1374 - accuracy: 0.9583 - val_loss: 0.0968 - val_accuracy: 1.0000\n",
            "Epoch 36/100\n",
            "4/4 [==============================] - 0s 12ms/step - loss: 0.1321 - accuracy: 0.9583 - val_loss: 0.0939 - val_accuracy: 1.0000\n",
            "Epoch 37/100\n",
            "4/4 [==============================] - 0s 11ms/step - loss: 0.1253 - accuracy: 0.9583 - val_loss: 0.0905 - val_accuracy: 1.0000\n",
            "Epoch 38/100\n",
            "4/4 [==============================] - 0s 13ms/step - loss: 0.1202 - accuracy: 0.9583 - val_loss: 0.0871 - val_accuracy: 1.0000\n",
            "Epoch 39/100\n",
            "4/4 [==============================] - 0s 12ms/step - loss: 0.1167 - accuracy: 0.9667 - val_loss: 0.0840 - val_accuracy: 1.0000\n",
            "Epoch 40/100\n",
            "4/4 [==============================] - 0s 12ms/step - loss: 0.1115 - accuracy: 0.9667 - val_loss: 0.0797 - val_accuracy: 1.0000\n",
            "Epoch 41/100\n",
            "4/4 [==============================] - 0s 13ms/step - loss: 0.1060 - accuracy: 0.9667 - val_loss: 0.0769 - val_accuracy: 1.0000\n",
            "Epoch 42/100\n",
            "4/4 [==============================] - 0s 14ms/step - loss: 0.1031 - accuracy: 0.9583 - val_loss: 0.0730 - val_accuracy: 1.0000\n",
            "Epoch 43/100\n",
            "4/4 [==============================] - 0s 12ms/step - loss: 0.0997 - accuracy: 0.9667 - val_loss: 0.0711 - val_accuracy: 1.0000\n",
            "Epoch 44/100\n",
            "4/4 [==============================] - 0s 11ms/step - loss: 0.0953 - accuracy: 0.9750 - val_loss: 0.0691 - val_accuracy: 1.0000\n",
            "Epoch 45/100\n",
            "4/4 [==============================] - 0s 11ms/step - loss: 0.0924 - accuracy: 0.9750 - val_loss: 0.0660 - val_accuracy: 1.0000\n",
            "Epoch 46/100\n",
            "4/4 [==============================] - 0s 11ms/step - loss: 0.0895 - accuracy: 0.9750 - val_loss: 0.0635 - val_accuracy: 1.0000\n",
            "Epoch 47/100\n",
            "4/4 [==============================] - 0s 12ms/step - loss: 0.0873 - accuracy: 0.9750 - val_loss: 0.0621 - val_accuracy: 1.0000\n",
            "Epoch 48/100\n",
            "4/4 [==============================] - 0s 11ms/step - loss: 0.0845 - accuracy: 0.9750 - val_loss: 0.0587 - val_accuracy: 1.0000\n",
            "Epoch 49/100\n",
            "4/4 [==============================] - 0s 12ms/step - loss: 0.0833 - accuracy: 0.9750 - val_loss: 0.0556 - val_accuracy: 1.0000\n",
            "Epoch 50/100\n",
            "4/4 [==============================] - 0s 12ms/step - loss: 0.0812 - accuracy: 0.9750 - val_loss: 0.0544 - val_accuracy: 1.0000\n",
            "Epoch 51/100\n",
            "4/4 [==============================] - 0s 12ms/step - loss: 0.0781 - accuracy: 0.9750 - val_loss: 0.0515 - val_accuracy: 1.0000\n",
            "Epoch 52/100\n",
            "4/4 [==============================] - 0s 12ms/step - loss: 0.0765 - accuracy: 0.9750 - val_loss: 0.0504 - val_accuracy: 1.0000\n",
            "Epoch 53/100\n",
            "4/4 [==============================] - 0s 11ms/step - loss: 0.0756 - accuracy: 0.9833 - val_loss: 0.0499 - val_accuracy: 1.0000\n",
            "Epoch 54/100\n",
            "4/4 [==============================] - 0s 11ms/step - loss: 0.0729 - accuracy: 0.9833 - val_loss: 0.0475 - val_accuracy: 1.0000\n",
            "Epoch 55/100\n",
            "4/4 [==============================] - 0s 11ms/step - loss: 0.0711 - accuracy: 0.9833 - val_loss: 0.0467 - val_accuracy: 1.0000\n",
            "Epoch 56/100\n",
            "4/4 [==============================] - 0s 12ms/step - loss: 0.0716 - accuracy: 0.9750 - val_loss: 0.0455 - val_accuracy: 1.0000\n",
            "Epoch 57/100\n",
            "4/4 [==============================] - 0s 12ms/step - loss: 0.0692 - accuracy: 0.9750 - val_loss: 0.0448 - val_accuracy: 1.0000\n",
            "Epoch 58/100\n",
            "4/4 [==============================] - 0s 12ms/step - loss: 0.0671 - accuracy: 0.9833 - val_loss: 0.0437 - val_accuracy: 1.0000\n",
            "Epoch 59/100\n",
            "4/4 [==============================] - 0s 18ms/step - loss: 0.0666 - accuracy: 0.9833 - val_loss: 0.0436 - val_accuracy: 1.0000\n",
            "Epoch 60/100\n",
            "4/4 [==============================] - 0s 12ms/step - loss: 0.0650 - accuracy: 0.9917 - val_loss: 0.0428 - val_accuracy: 1.0000\n",
            "Epoch 61/100\n",
            "4/4 [==============================] - 0s 11ms/step - loss: 0.0637 - accuracy: 0.9833 - val_loss: 0.0412 - val_accuracy: 1.0000\n",
            "Epoch 62/100\n",
            "4/4 [==============================] - 0s 11ms/step - loss: 0.0626 - accuracy: 0.9833 - val_loss: 0.0399 - val_accuracy: 1.0000\n",
            "Epoch 63/100\n",
            "4/4 [==============================] - 0s 11ms/step - loss: 0.0617 - accuracy: 0.9917 - val_loss: 0.0390 - val_accuracy: 1.0000\n",
            "Epoch 64/100\n",
            "4/4 [==============================] - 0s 12ms/step - loss: 0.0614 - accuracy: 0.9917 - val_loss: 0.0384 - val_accuracy: 1.0000\n",
            "Epoch 65/100\n",
            "4/4 [==============================] - 0s 15ms/step - loss: 0.0600 - accuracy: 0.9917 - val_loss: 0.0365 - val_accuracy: 1.0000\n",
            "Epoch 66/100\n",
            "4/4 [==============================] - 0s 11ms/step - loss: 0.0604 - accuracy: 0.9833 - val_loss: 0.0350 - val_accuracy: 1.0000\n",
            "Epoch 67/100\n",
            "4/4 [==============================] - 0s 11ms/step - loss: 0.0590 - accuracy: 0.9833 - val_loss: 0.0337 - val_accuracy: 1.0000\n",
            "Epoch 68/100\n",
            "4/4 [==============================] - 0s 12ms/step - loss: 0.0588 - accuracy: 0.9833 - val_loss: 0.0325 - val_accuracy: 1.0000\n",
            "Epoch 69/100\n",
            "4/4 [==============================] - 0s 11ms/step - loss: 0.0574 - accuracy: 0.9833 - val_loss: 0.0328 - val_accuracy: 1.0000\n",
            "Epoch 70/100\n",
            "4/4 [==============================] - 0s 12ms/step - loss: 0.0562 - accuracy: 0.9917 - val_loss: 0.0320 - val_accuracy: 1.0000\n",
            "Epoch 71/100\n",
            "4/4 [==============================] - 0s 11ms/step - loss: 0.0560 - accuracy: 0.9833 - val_loss: 0.0315 - val_accuracy: 1.0000\n",
            "Epoch 72/100\n",
            "4/4 [==============================] - 0s 11ms/step - loss: 0.0539 - accuracy: 0.9917 - val_loss: 0.0302 - val_accuracy: 1.0000\n",
            "Epoch 73/100\n",
            "4/4 [==============================] - 0s 11ms/step - loss: 0.0543 - accuracy: 0.9833 - val_loss: 0.0294 - val_accuracy: 1.0000\n",
            "Epoch 74/100\n",
            "4/4 [==============================] - 0s 12ms/step - loss: 0.0539 - accuracy: 0.9833 - val_loss: 0.0290 - val_accuracy: 1.0000\n",
            "Epoch 75/100\n",
            "4/4 [==============================] - 0s 11ms/step - loss: 0.0537 - accuracy: 0.9833 - val_loss: 0.0294 - val_accuracy: 1.0000\n",
            "Epoch 76/100\n",
            "4/4 [==============================] - 0s 11ms/step - loss: 0.0531 - accuracy: 0.9917 - val_loss: 0.0301 - val_accuracy: 1.0000\n",
            "Epoch 77/100\n",
            "4/4 [==============================] - 0s 12ms/step - loss: 0.0519 - accuracy: 0.9917 - val_loss: 0.0294 - val_accuracy: 1.0000\n",
            "Epoch 78/100\n",
            "4/4 [==============================] - 0s 12ms/step - loss: 0.0518 - accuracy: 0.9917 - val_loss: 0.0283 - val_accuracy: 1.0000\n",
            "Epoch 79/100\n",
            "4/4 [==============================] - 0s 13ms/step - loss: 0.0515 - accuracy: 0.9917 - val_loss: 0.0283 - val_accuracy: 1.0000\n",
            "Epoch 80/100\n",
            "4/4 [==============================] - 0s 12ms/step - loss: 0.0502 - accuracy: 0.9917 - val_loss: 0.0286 - val_accuracy: 1.0000\n",
            "Epoch 81/100\n",
            "4/4 [==============================] - 0s 11ms/step - loss: 0.0514 - accuracy: 0.9833 - val_loss: 0.0295 - val_accuracy: 1.0000\n",
            "Epoch 82/100\n",
            "4/4 [==============================] - 0s 12ms/step - loss: 0.0498 - accuracy: 0.9833 - val_loss: 0.0266 - val_accuracy: 1.0000\n",
            "Epoch 83/100\n",
            "4/4 [==============================] - 0s 12ms/step - loss: 0.0499 - accuracy: 0.9917 - val_loss: 0.0249 - val_accuracy: 1.0000\n",
            "Epoch 84/100\n",
            "4/4 [==============================] - 0s 11ms/step - loss: 0.0486 - accuracy: 0.9917 - val_loss: 0.0244 - val_accuracy: 1.0000\n",
            "Epoch 85/100\n",
            "4/4 [==============================] - 0s 12ms/step - loss: 0.0481 - accuracy: 0.9917 - val_loss: 0.0245 - val_accuracy: 1.0000\n",
            "Epoch 86/100\n",
            "4/4 [==============================] - 0s 12ms/step - loss: 0.0485 - accuracy: 0.9917 - val_loss: 0.0240 - val_accuracy: 1.0000\n",
            "Epoch 87/100\n",
            "4/4 [==============================] - 0s 14ms/step - loss: 0.0481 - accuracy: 0.9917 - val_loss: 0.0245 - val_accuracy: 1.0000\n",
            "Epoch 88/100\n",
            "4/4 [==============================] - 0s 11ms/step - loss: 0.0479 - accuracy: 0.9833 - val_loss: 0.0236 - val_accuracy: 1.0000\n",
            "Epoch 89/100\n",
            "4/4 [==============================] - 0s 11ms/step - loss: 0.0475 - accuracy: 0.9833 - val_loss: 0.0230 - val_accuracy: 1.0000\n",
            "Epoch 90/100\n",
            "4/4 [==============================] - 0s 12ms/step - loss: 0.0461 - accuracy: 0.9917 - val_loss: 0.0221 - val_accuracy: 1.0000\n",
            "Epoch 91/100\n",
            "4/4 [==============================] - 0s 11ms/step - loss: 0.0456 - accuracy: 0.9917 - val_loss: 0.0213 - val_accuracy: 1.0000\n",
            "Epoch 92/100\n",
            "4/4 [==============================] - 0s 11ms/step - loss: 0.0465 - accuracy: 0.9917 - val_loss: 0.0213 - val_accuracy: 1.0000\n",
            "Epoch 93/100\n",
            "4/4 [==============================] - 0s 12ms/step - loss: 0.0457 - accuracy: 0.9917 - val_loss: 0.0211 - val_accuracy: 1.0000\n",
            "Epoch 94/100\n",
            "4/4 [==============================] - 0s 11ms/step - loss: 0.0451 - accuracy: 0.9917 - val_loss: 0.0219 - val_accuracy: 1.0000\n",
            "Epoch 95/100\n",
            "4/4 [==============================] - 0s 12ms/step - loss: 0.0444 - accuracy: 0.9917 - val_loss: 0.0218 - val_accuracy: 1.0000\n",
            "Epoch 96/100\n",
            "4/4 [==============================] - 0s 12ms/step - loss: 0.0442 - accuracy: 0.9833 - val_loss: 0.0229 - val_accuracy: 1.0000\n",
            "Epoch 97/100\n",
            "4/4 [==============================] - 0s 11ms/step - loss: 0.0448 - accuracy: 0.9833 - val_loss: 0.0221 - val_accuracy: 1.0000\n",
            "Epoch 98/100\n",
            "4/4 [==============================] - 0s 11ms/step - loss: 0.0439 - accuracy: 0.9833 - val_loss: 0.0206 - val_accuracy: 1.0000\n",
            "Epoch 99/100\n",
            "4/4 [==============================] - 0s 11ms/step - loss: 0.0430 - accuracy: 0.9833 - val_loss: 0.0195 - val_accuracy: 1.0000\n",
            "Epoch 100/100\n",
            "4/4 [==============================] - 0s 11ms/step - loss: 0.0432 - accuracy: 0.9917 - val_loss: 0.0191 - val_accuracy: 1.0000\n"
          ]
        }
      ]
    },
    {
      "cell_type": "code",
      "source": [
        "import matplotlib.pyplot as plt\n",
        "plt.plot(history.history['accuracy'], label='Train Accuracy')\n",
        "plt.plot(history.history['val_accuracy'], label='Validation Accuracy')\n",
        "plt.plot(history.history['loss'], label='Train Loss')\n",
        "plt.plot(history.history['val_loss'], label='Validation Loss')\n",
        "plt.xlabel('Epoch')\n",
        "plt.ylabel('Accuracy')\n",
        "plt.legend()\n",
        "plt.show()"
      ],
      "metadata": {
        "id": "PPZsjXHRqHOa",
        "colab": {
          "base_uri": "https://localhost:8080/",
          "height": 449
        },
        "outputId": "8d2101e8-76ec-4d4f-e556-5b452bb507e4"
      },
      "execution_count": null,
      "outputs": [
        {
          "output_type": "display_data",
          "data": {
            "text/plain": [
              "<Figure size 640x480 with 1 Axes>"
            ],
            "image/png": "[encoded data removed]"
          },
          "metadata": {}
        }
      ]
    }
  ]
}