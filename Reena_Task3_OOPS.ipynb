{
  "nbformat": 4,
  "nbformat_minor": 0,
  "metadata": {
    "colab": {
      "provenance": []
    },
    "kernelspec": {
      "name": "python3",
      "display_name": "Python 3"
    },
    "language_info": {
      "name": "python"
    }
  },
  "cells": [
    {
      "cell_type": "markdown",
      "source": [
        "1.  Write a Python program to create a class representing a Circle. Include methods to calculate its area and perimeter.\n",
        "\n"
      ],
      "metadata": {
        "id": "4S5Yctf044_U"
      }
    },
    {
      "cell_type": "code",
      "source": [
        "import math\n",
        "class Circle:\n",
        "  radius=0.0\n",
        "  pi=math.pi #value of pi=3.14\n",
        "\n",
        "  def calculate_area(self):\n",
        "    print(\"Area of the Circle=\",self.pi*self.radius**2)\n",
        "  def calculate_perimeter(self):\n",
        "    print(\"Perimeter of the circle=\",2*self.pi*self.radius)\n",
        "\n",
        "# Create an instance of the Circle class\n",
        "circle1=Circle()\n",
        "# Set the radius of the circle1 instance to 5\n",
        "circle1.radius=5\n",
        "\n",
        "# Call the methods to calculate and print the area and perimeter\n",
        "circle1.calculate_area()\n",
        "circle1.calculate_perimeter()"
      ],
      "metadata": {
        "colab": {
          "base_uri": "https://localhost:8080/"
        },
        "id": "wqknOn_K5VkC",
        "outputId": "9defd5d1-656e-4ce0-8abe-5fcdef334f85"
      },
      "execution_count": null,
      "outputs": [
        {
          "output_type": "stream",
          "name": "stdout",
          "text": [
            "Area of the Circle= 78.53981633974483\n",
            "Perimeter of the circle= 31.41592653589793\n"
          ]
        }
      ]
    },
    {
      "cell_type": "markdown",
      "source": [
        "2. Write a Python program to create a calculator class. Include methods for basic arithmetic operations.\n",
        "\n"
      ],
      "metadata": {
        "id": "VacI3Iwv_jmk"
      }
    },
    {
      "cell_type": "code",
      "source": [
        "class Calculator:\n",
        "  def add(self,num1,num2):\n",
        "    return num1+num2\n",
        "  def sub(self,num1,num2):\n",
        "    return num1-num2\n",
        "  def multiply(self,num1,num2):\n",
        "    return num1*num2\n",
        "  def divide(self,num1,num2):\n",
        "    if num2!=0:\n",
        "      return num1/num2\n",
        "    else:\n",
        "      return \"cannot divide by zero\"\n",
        "\n",
        "#Create an instance of the calculator class\n",
        "calculator=Calculator()\n",
        "\n",
        "#perform some calculations\n",
        "result_addition=calculator.add(2,3)\n",
        "result_subtraction=calculator.sub(6,7)\n",
        "result_multiplication=calculator.multiply(5,2)\n",
        "result_division=calculator.divide(8,4)\n",
        "\n",
        "#display the result\n",
        "print(\"Sum of numbers=\",result_addition)\n",
        "print(\"Diference of numbers=\",result_subtraction)\n",
        "print(\"Product of numbers=\",result_multiplication)\n",
        "print('Quotient of numbers=',result_division)\n"
      ],
      "metadata": {
        "colab": {
          "base_uri": "https://localhost:8080/"
        },
        "id": "BwzuPBuVCTM2",
        "outputId": "6489b439-2a0d-422e-f051-88c7ff312cf7"
      },
      "execution_count": null,
      "outputs": [
        {
          "output_type": "stream",
          "name": "stdout",
          "text": [
            "Sum of numbers= 5\n",
            "Diference of numbers= -1\n",
            "Product of numbers= 10\n",
            "Quotient of numbers= 2.0\n"
          ]
        }
      ]
    },
    {
      "cell_type": "markdown",
      "source": [
        "3. Write a Python program to create a class that represents a shape. Include methods to calculate its area and perimeter. Implement subclasses for different shapes like circle, triangle, and square.\n",
        "\n"
      ],
      "metadata": {
        "id": "beYu-h9KA_ap"
      }
    },
    {
      "cell_type": "code",
      "source": [
        "import math\n",
        "class Shape():\n",
        "    def area(self):\n",
        "        pass\n",
        "    def perimeter(self):\n",
        "        pass\n",
        "\n",
        "class Circle(Shape):\n",
        "\n",
        "    def __init__(self,radius):\n",
        "        self.radius=radius\n",
        "    def area(self):\n",
        "        return math.pi*self.radius**2\n",
        "    def perimeter(self):\n",
        "        return 2*math.pi*self.radius\n",
        "\n",
        "class Triangle(Shape):\n",
        "    def __init__(self,side1,side2,side3):\n",
        "        self.side1=side1\n",
        "        self.side2=side2\n",
        "        self.side3=side3\n",
        "    def area(self):\n",
        "        s=(self.side1+self.side2+self.side3)/2                            #Area=s×(s−a)×(s−b)×(s−c)\n",
        "        return math.sqrt(s*(s-self.side1)*(s-self.side2)*(s-self.side3))  #where s is the semi-perimeter of the triangle, calculated as s=(a+b+c)/2\n",
        "\n",
        "    def perimeter(self):\n",
        "        return self.side1+self.side2+self.side3\n",
        "\n",
        "\n",
        "class Square(Shape):\n",
        "    def __init__(self,side):\n",
        "        self.side=side\n",
        "    def area(self):\n",
        "        return self.side**2\n",
        "    def perimeter(self):\n",
        "        return 4*self.side\n",
        "\n",
        "circle=Circle(5)\n",
        "triangle=Triangle(3,4,5)\n",
        "square=Square(4)\n",
        "\n",
        "print(\"Circle:   Area=\",circle.area(),\"Perimeter=\",circle.perimeter())\n",
        "print(\"Triangle: Area=\",triangle.area(),\"Perimeter=\",triangle.perimeter())\n",
        "print(\"Square:   Area=\",square.area(),\"Perimeter=\",square.perimeter())\n"
      ],
      "metadata": {
        "id": "8AlZ-wQPCMLa",
        "colab": {
          "base_uri": "https://localhost:8080/"
        },
        "outputId": "a8186e02-0288-4ab4-c7d9-985ea86af241"
      },
      "execution_count": null,
      "outputs": [
        {
          "output_type": "stream",
          "name": "stdout",
          "text": [
            "Circle:   Area= 78.53981633974483 Perimeter= 31.41592653589793\n",
            "Triangle: Area= 6.0 Perimeter= 12\n",
            "Square:   Area= 16 Perimeter= 16\n"
          ]
        }
      ]
    }
  ]
}